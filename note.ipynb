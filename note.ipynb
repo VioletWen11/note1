{
 "cells": [
  {
   "cell_type": "code",
   "execution_count": null,
   "metadata": {},
   "outputs": [],
   "source": [
    "var1 = '%s %s %d' % ('hello', 'world', 22)\n",
    "# 需要引号\n",
    "var2 = \"%d, %s,%d, %s,%s\" % (4, \"a\", 4, \"b\", \"c\")\n"
   ]
  },
  {
   "cell_type": "code",
   "execution_count": null,
   "metadata": {},
   "outputs": [],
   "source": [
    "input_str = input('please type')\n",
    "print(input_str * 10)  # 乘法与加法是什么含义，都取决于其两端是谁！！！\n",
    "print(str(float(input_str) * 10))  # 转化其形式再乘"
   ]
  },
  {
   "cell_type": "code",
   "execution_count": null,
   "metadata": {},
   "outputs": [],
   "source": [
    "a = []    # not use list to define a variable!!!!\n",
    "a = list(range(5))"
   ]
  },
  {
   "cell_type": "code",
   "execution_count": null,
   "metadata": {},
   "outputs": [],
   "source": [
    "import random as rd\n",
    "rd.random() # 0-1间的随机数\n",
    "rd.randrange(1, 53)"
   ]
  },
  {
   "cell_type": "code",
   "execution_count": null,
   "metadata": {},
   "outputs": [],
   "source": [
    "a = np.array([1, 2, 3,4 ,5])\n",
    "type(a)\n",
    "print(a.shape)\n",
    "print(a.shape[0])\n",
    "# 返回的是数组或矩阵中元素的个数\n"
   ]
  }
 ],
 "metadata": {
  "language_info": {
   "name": "python"
  },
  "orig_nbformat": 4
 },
 "nbformat": 4,
 "nbformat_minor": 2
}
